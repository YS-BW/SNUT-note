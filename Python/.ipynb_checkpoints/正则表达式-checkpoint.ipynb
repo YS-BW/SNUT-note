{
 "cells": [
  {
   "cell_type": "code",
   "execution_count": 4,
   "metadata": {},
   "outputs": [],
   "source": [
    "import re"
   ]
  },
  {
   "cell_type": "code",
   "execution_count": 5,
   "metadata": {},
   "outputs": [],
   "source": [
    "s = 'hi 1024 world3.1415926 python 2222.222' "
   ]
  },
  {
   "cell_type": "code",
   "execution_count": 6,
   "metadata": {},
   "outputs": [
    {
     "data": {
      "text/plain": [
       "['1024', '3', '1415926', '2222', '222']"
      ]
     },
     "execution_count": 6,
     "metadata": {},
     "output_type": "execute_result"
    }
   ],
   "source": [
    "pattern = '\\d+'\n",
    "re.findall(pattern,s)"
   ]
  },
  {
   "cell_type": "code",
   "execution_count": 7,
   "metadata": {},
   "outputs": [
    {
     "data": {
      "text/plain": [
       "['3.', '2222.']"
      ]
     },
     "execution_count": 7,
     "metadata": {},
     "output_type": "execute_result"
    }
   ],
   "source": [
    "pattern = '\\d+\\.'\n",
    "re.findall(pattern,s)"
   ]
  },
  {
   "cell_type": "code",
   "execution_count": 9,
   "metadata": {},
   "outputs": [
    {
     "data": {
      "text/plain": [
       "['3.1415', '2222.222']"
      ]
     },
     "execution_count": 9,
     "metadata": {},
     "output_type": "execute_result"
    }
   ],
   "source": [
    "pattern = '\\d+\\.\\d{3,4}'\n",
    "re.findall(pattern,s)"
   ]
  },
  {
   "cell_type": "code",
   "execution_count": 20,
   "metadata": {},
   "outputs": [
    {
     "ename": "SyntaxError",
     "evalue": "EOL while scanning string literal (<ipython-input-20-a38976a416f4>, line 1)",
     "output_type": "error",
     "traceback": [
      "\u001b[1;36m  File \u001b[1;32m\"<ipython-input-20-a38976a416f4>\"\u001b[1;36m, line \u001b[1;32m1\u001b[0m\n\u001b[1;33m    ss = \"\u001b[0m\n\u001b[1;37m              ^\u001b[0m\n\u001b[1;31mSyntaxError\u001b[0m\u001b[1;31m:\u001b[0m EOL while scanning string literal\n"
     ]
    }
   ],
   "source": [
    "ss = \"    \n",
    "             \n",
    "        <div class=\"item\">\n",
    "          <img src=\"../static/common/com_images/img-loding.png\"\n",
    "            style=\"height: 330px\"\n",
    "            data-original=\"//scpic.chinaz.net/files/default/imgs/2025-05-28/20250528110606073661_s.png\"\n",
    "            class=\"lazy\"\n",
    "            alt=\"欧美米白色丝光时尚休闲衬衫美女图片\"\n",
    "          />\n",
    "          <div class=\"bot-div\">\n",
    "            <a class=\"name\" href=\"/tupian/25060912861.htm\"  title=\"欧美米白色丝光时尚休闲衬衫美女图片\" target=\"_blank\">欧美米白色丝光时尚休闲衬衫美女图片</a>\n",
    "          </div>\n",
    "        </div>\n",
    "             \n",
    "        <div class=\"item\">\n",
    "          <img src=\"../static/common/com_images/img-loding.png\"\n",
    "            style=\"height: 330px\"\n",
    "            data-original=\"//scpic.chinaz.net/files/default/imgs/2025-05-27/20250527105911336691_s.png\"\n",
    "            class=\"lazy\"\n",
    "            alt=\"夏至主题字体海报图片\"\n",
    "          />\n",
    "          <div class=\"bot-div\">\n",
    "            <a class=\"name\" href=\"/tupian/25060912182.htm\"  title=\"夏至主题字体海报图片\" target=\"_blank\">夏至主题字体海报图片</a>\n",
    "          </div>\n",
    "        </div>\n",
    "             \n",
    "        <div class=\"item\">\n",
    "          <img src=\"../static/common/com_images/img-loding.png\"\n",
    "            style=\"height: 248px\"\n",
    "            data-original=\"//scpic.chinaz.net/files/default/imgs/2025-06-06/20250606170505649046_s.png\"\n",
    "            class=\"lazy\"\n",
    "            alt=\"手持红酒杯的性感辣妹装美女图片\"\n",
    "          />\n",
    "          <div class=\"bot-div\">\n",
    "            <a class=\"name\" href=\"/tupian/25060956419.htm\"  title=\"手持红酒杯的性感辣妹装美女图片\" target=\"_blank\">手持红酒杯的性感辣妹装美女图片</a>\n",
    "          </div>\n",
    "        </div>\n",
    "             \n",
    "        <div class=\"item\">\n",
    "          <img src=\"../static/common/com_images/img-loding.png\"\n",
    "            style=\"height: 330px\"\n",
    "            data-original=\"//scpic.chinaz.net/files/default/imgs/2025-05-28/20250528170045431237_s.png\"\n",
    "            class=\"lazy\"\n",
    "            alt=\"紫色风格电商场景图片设计\"\n",
    "          />\n",
    "          <div class=\"bot-div\">\n",
    "            <a class=\"name\" href=\"/tupian/25060956172.htm\"  title=\"紫色风格电商场景图片设计\" target=\"_blank\">紫色风格电商场景图片设计</a>\n",
    "          </div>\n",
    "        </div>\n",
    "             \n",
    "        <div class=\"item\">\n",
    "          <img src=\"../static/common/com_images/img-loding.png\"\n",
    "            style=\"height: 248px\"\n",
    "            data-original=\"//scpic.chinaz.net/files/default/imgs/2025-06-06/20250606171516304360_s.png\"\n",
    "            class=\"lazy\"\n",
    "            alt=\"烟雨江南白色古装服饰美女写真图片\"\n",
    "          />\n",
    "          <div class=\"bot-div\">\n",
    "            <a class=\"name\" href=\"/tupian/25060956104.htm\"  title=\"烟雨江南白色古装服饰美女写真图片\" target=\"_blank\">烟雨江南白色古装服饰美女写真图片</a>\n",
    "          </div>\n",
    "        </div>\n",
    "             \n",
    "        <div class=\"item\">\n",
    "          <img src=\"../static/common/com_images/img-loding.png\"\n",
    "            style=\"height: 279px\"\n",
    "            data-original=\"//scpic.chinaz.net/files/default/imgs/2025-05-26/20250526093216916468_s.png\"\n",
    "            class=\"lazy\"\n",
    "            alt=\"皮衣夹克风格动漫女孩图片\"\n",
    "          />\n",
    "          <div class=\"bot-div\">\n",
    "            <a class=\"name\" href=\"/tupian/25060952782.htm\"  title=\"皮衣夹克风格动漫女孩图片\" target=\"_blank\">皮衣夹克风格动漫女孩图片</a>\n",
    "          </div>\n",
    "        </div>\n",
    "             \n",
    "        <div class=\"item\">\n",
    "          <img src=\"../static/common/com_images/img-loding.png\"\n",
    "            style=\"height: 104px\"\n",
    "            data-original=\"//scpic.chinaz.net/files/default/imgs/2025-05-26/20250526155056607505_s.png\"\n",
    "            class=\"lazy\"\n",
    "            alt=\"光着脚丫的欧美白裙美女图片\"\n",
    "          />\n",
    "          <div class=\"bot-div\">\n",
    "            <a class=\"name\" href=\"/tupian/25060952748.htm\"  title=\"光着脚丫的欧美白裙美女图片\" target=\"_blank\">光着脚丫的欧美白裙美女图片</a>\n",
    "          </div>\n",
    "        </div>\n",
    "             \n",
    "        <div class=\"item\">\n",
    "          <img src=\"../static/common/com_images/img-loding.png\"\n",
    "            style=\"height: 248px\"\n",
    "            data-original=\"//scpic.chinaz.net/files/default/imgs/2025-06-06/20250606160445534391_s.png\"\n",
    "            class=\"lazy\"\n",
    "            alt=\"亚洲金色长卷发美女艺术人像摄影\"\n",
    "          />\n",
    "          <div class=\"bot-div\">\n",
    "            <a class=\"name\" href=\"/tupian/25060952158.htm\"  title=\"亚洲金色长卷发美女艺术人像摄影\" target=\"_blank\">亚洲金色长卷发美女艺术人像摄影</a>\n",
    "          </div>\n",
    "        </div>\n",
    "             \n",
    "        <div class=\"item\">\n",
    "          <img src=\"../static/common/com_images/img-loding.png\"\n",
    "            style=\"height: 330px\"\n",
    "            data-original=\"//scpic.chinaz.net/files/default/imgs/2025-05-27/20250527093725118420_s.png\"\n",
    "\n",
    "        <div class=\"item\">\n",
    "          <img src=\"../static/common/com_images/img-loding.png\"\n",
    "            style=\"height: 186px\"\n",
    "            data-original=\"//scpic.chinaz.net/files/default/imgs/2025-05-26/20250526153651429510_s.png\"\n",
    "            class=\"lazy\"\n",
    "            alt=\"银色金属质感机器人图片\"\n",
    "          />\n",
    "          <div class=\"bot-div\">\n",
    "            <a class=\"name\" href=\"/tupian/25060804495.htm\"  title=\"银色金属质感机器人图片\" target=\"_blank\">银色金属质感机器人图片</a>\n",
    "          </div>\n",
    "        </div>\n",
    "             \n",
    "        <div class=\"item\">\n",
    "          <img src=\"../static/common/com_images/img-loding.png\"\n",
    "            style=\"height: 104px\"\n",
    "            data-original=\"//scpic.chinaz.net/files/default/imgs/2025-05-26/20250526155037824627_s.png\"\n",
    "            class=\"lazy\"\n",
    "            alt=\"欧式花园赏花的欧美美女图片\"\n",
    "          />\n",
    "          <div class=\"bot-div\">\n",
    "            <a class=\"name\" href=\"/tupian/25060804415.htm\"  title=\"欧式花园赏花的欧美美女图片\" target=\"_blank\">欧式花园赏花的欧美美女图片</a>\n",
    "          </div>\n",
    "        </div>\n",
    "             \n",
    "        <div class=\"item\">\n",
    "          <img src=\"../static/common/com_images/img-loding.png\"\n",
    "            style=\"height: 186px\"\n",
    "            data-original=\"//scpic.chinaz.net/files/default/imgs/2025-06-06/20250606160912449893_s.png\"\n",
    "            class=\"lazy\"\n",
    "            alt=\"烟雨江南唯美古风撑伞美女图片\"\n",
    "          />\n",
    "          <div class=\"bot-div\">\n",
    "            <a class=\"name\" href=\"/tupian/25060704853.htm\"  title=\"烟雨江南唯美古风撑伞美女图片\" target=\"_blank\">烟雨江南唯美古风撑伞美女图片</a>\n",
    "          </div>\n",
    "        </div>\n",
    "             \n",
    "        <div class=\"item\">\n",
    "          <img src=\"../static/common/com_images/img-loding.png\"\n",
    "            style=\"height: 330px\"\n",
    "            data-original=\"//scpic.chinaz.net/files/default/imgs/2025-05-27/20250527102659551432_s.png\"\n",
    "            class=\"lazy\"\n",
    "  \n",
    "            data-original=\"//scpic.chinaz.net/files/default/imgs/2025-05-28/20250528173956626981_s.png\"\n",
    "            class=\"lazy\"\n",
    "            alt=\"高考加油主题卡通插画图片\"\n",
    "          />\n",
    "          <div class=\"bot-div\">\n",
    "            <a class=\"name\" href=\"/tupian/25060704695.htm\"  title=\"高考加油主题卡通插画图片\" target=\"_blank\">高考加油主题卡通插画图片</a>\n",
    "          </div>\n",
    "        </div>\n",
    "\"\n",
    "\n",
    "      \n",
    "\n",
    "   "
   ]
  },
  {
   "cell_type": "code",
   "execution_count": 10,
   "metadata": {},
   "outputs": [],
   "source": [
    "\n",
    "pattern = 'img src=\"(.+)\"'\n",
    "lst = re.findall(pattern,ss)\n",
    "for i in lst:\n",
    "        print(i)\n",
    "        imgname = i.split('/')[-1]\n",
    "        img = requests.get(i)\n",
    "        with open(imgname,mode = 'web') as f:\n",
    "            f.write(img.content)"
   ]
  },
  {
   "cell_type": "code",
   "execution_count": null,
   "metadata": {},
   "outputs": [],
   "source": []
  }
 ],
 "metadata": {
  "kernelspec": {
   "display_name": "Python 3",
   "language": "python",
   "name": "python3"
  },
  "language_info": {
   "codemirror_mode": {
    "name": "ipython",
    "version": 3
   },
   "file_extension": ".py",
   "mimetype": "text/x-python",
   "name": "python",
   "nbconvert_exporter": "python",
   "pygments_lexer": "ipython3",
   "version": "3.7.0"
  }
 },
 "nbformat": 4,
 "nbformat_minor": 2
}
