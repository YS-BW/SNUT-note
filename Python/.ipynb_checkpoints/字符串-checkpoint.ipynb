{
 "cells": [
  {
   "cell_type": "markdown",
   "id": "49246e51-da95-4ebc-823d-308efacd6b99",
   "metadata": {},
   "source": [
    "# 索引"
   ]
  },
  {
   "cell_type": "code",
   "execution_count": 13,
   "id": "3127ea3a-6470-4a4a-b4a3-c1a5cdb05660",
   "metadata": {},
   "outputs": [
    {
     "data": {
      "text/plain": [
       "'p'"
      ]
     },
     "execution_count": 13,
     "metadata": {},
     "output_type": "execute_result"
    }
   ],
   "source": [
    "s = '你好,pYthon'\n",
    "s [3]"
   ]
  },
  {
   "cell_type": "code",
   "execution_count": 9,
   "id": "f53ed7f4-5f25-4820-9b8d-64c955de2b3b",
   "metadata": {},
   "outputs": [
    {
     "data": {
      "text/plain": [
       "'a'"
      ]
     },
     "execution_count": 9,
     "metadata": {},
     "output_type": "execute_result"
    }
   ],
   "source": [
    "chr(97) # 返回字符"
   ]
  },
  {
   "cell_type": "code",
   "execution_count": 11,
   "id": "a9e02ce4-ffa5-4059-a037-1e86787d7fe9",
   "metadata": {},
   "outputs": [
    {
     "data": {
      "text/plain": [
       "97"
      ]
     },
     "execution_count": 11,
     "metadata": {},
     "output_type": "execute_result"
    }
   ],
   "source": [
    "ord('a') # 返回Unicode"
   ]
  },
  {
   "cell_type": "code",
   "execution_count": 15,
   "id": "7606fd63-5192-49ef-9dec-2f4347994d77",
   "metadata": {},
   "outputs": [
    {
     "data": {
      "text/plain": [
       "'你好,python'"
      ]
     },
     "execution_count": 15,
     "metadata": {},
     "output_type": "execute_result"
    }
   ],
   "source": [
    "s.lower() # 转小写"
   ]
  },
  {
   "cell_type": "code",
   "execution_count": 16,
   "id": "3bee6f63-10ec-4fd9-a807-92c19b66a9b7",
   "metadata": {},
   "outputs": [
    {
     "data": {
      "text/plain": [
       "'你好,PYTHON'"
      ]
     },
     "execution_count": 16,
     "metadata": {},
     "output_type": "execute_result"
    }
   ],
   "source": [
    "s.upper() # 转大写"
   ]
  },
  {
   "cell_type": "code",
   "execution_count": 17,
   "id": "8ce17ffb-150e-4c7c-aedb-c8be74d1deb1",
   "metadata": {},
   "outputs": [
    {
     "data": {
      "text/plain": [
       "['你好', 'pYthon']"
      ]
     },
     "execution_count": 17,
     "metadata": {},
     "output_type": "execute_result"
    }
   ],
   "source": [
    "s.split(sep = ',') # str通过sep分割,默认空格"
   ]
  },
  {
   "cell_type": "code",
   "execution_count": 20,
   "id": "406fe6e2-b7a2-49a9-99d2-23a7bcab2827",
   "metadata": {},
   "outputs": [
    {
     "data": {
      "text/plain": [
       "'你好,pYthon'"
      ]
     },
     "execution_count": 20,
     "metadata": {},
     "output_type": "execute_result"
    }
   ],
   "source": [
    "s.join('a')\n",
    "s"
   ]
  },
  {
   "cell_type": "code",
   "execution_count": null,
   "id": "c84c11c6-c55a-4096-b33e-2eaddd63ce2f",
   "metadata": {},
   "outputs": [],
   "source": []
  }
 ],
 "metadata": {
  "kernelspec": {
   "display_name": "Python 3 (ipykernel)",
   "language": "python",
   "name": "python3"
  },
  "language_info": {
   "codemirror_mode": {
    "name": "ipython",
    "version": 3
   },
   "file_extension": ".py",
   "mimetype": "text/x-python",
   "name": "python",
   "nbconvert_exporter": "python",
   "pygments_lexer": "ipython3",
   "version": "3.13.3"
  }
 },
 "nbformat": 4,
 "nbformat_minor": 5
}
