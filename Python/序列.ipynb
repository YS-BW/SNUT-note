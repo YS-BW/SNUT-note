{
 "cells": [
  {
   "cell_type": "markdown",
   "id": "d937e0b1-6a46-4c20-a4db-7a13c9495a8a",
   "metadata": {},
   "source": [
    "# 列表"
   ]
  },
  {
   "cell_type": "markdown",
   "id": "db547e25-440d-42b8-b5c3-208a6fe0ad6f",
   "metadata": {},
   "source": [
    "ls = [1,2,3,4,5,6]\n",
    "ls"
   ]
  },
  {
   "cell_type": "code",
   "execution_count": 12,
   "id": "d7cfd8ac-3522-4d44-b996-1d642b601150",
   "metadata": {},
   "outputs": [
    {
     "data": {
      "text/plain": [
       "[1010, '1010', 1010]"
      ]
     },
     "execution_count": 12,
     "metadata": {},
     "output_type": "execute_result"
    }
   ],
   "source": [
    "ls = [1010,'1010',[1010,'1010',1010]]\n",
    "ls[2]\n",
    "ls[-1]"
   ]
  },
  {
   "cell_type": "code",
   "execution_count": 16,
   "id": "391e335b-04e4-46b0-89ea-b973297ede6e",
   "metadata": {},
   "outputs": [
    {
     "data": {
      "text/plain": [
       "[1010, '1010']"
      ]
     },
     "execution_count": 16,
     "metadata": {},
     "output_type": "execute_result"
    }
   ],
   "source": [
    "ls[0:2]"
   ]
  },
  {
   "cell_type": "code",
   "execution_count": 17,
   "id": "cec8af87-cf79-4e12-a54b-e768a2ff05a2",
   "metadata": {},
   "outputs": [
    {
     "data": {
      "text/plain": [
       "3"
      ]
     },
     "execution_count": 17,
     "metadata": {},
     "output_type": "execute_result"
    }
   ],
   "source": [
    "len(ls)"
   ]
  },
  {
   "cell_type": "code",
   "execution_count": 18,
   "id": "35acfae3-10c1-4aab-9c78-31bb0a65504f",
   "metadata": {},
   "outputs": [],
   "source": [
    "la = [1,2,3,4,5,6,7,8]"
   ]
  },
  {
   "cell_type": "code",
   "execution_count": 22,
   "id": "865205df-551b-4411-9b83-858a8abab599",
   "metadata": {},
   "outputs": [
    {
     "data": {
      "text/plain": [
       "1"
      ]
     },
     "execution_count": 22,
     "metadata": {},
     "output_type": "execute_result"
    }
   ],
   "source": [
    "min(la)"
   ]
  },
  {
   "cell_type": "code",
   "execution_count": 20,
   "id": "a87e02bb-41f1-4cf0-a2c1-a3929290f4fc",
   "metadata": {},
   "outputs": [
    {
     "data": {
      "text/plain": [
       "8"
      ]
     },
     "execution_count": 20,
     "metadata": {},
     "output_type": "execute_result"
    }
   ],
   "source": [
    "max(la)"
   ]
  },
  {
   "cell_type": "code",
   "execution_count": 23,
   "id": "29c2b336-bfb5-4007-8cb2-58bc7e47709f",
   "metadata": {},
   "outputs": [
    {
     "data": {
      "text/plain": [
       "8"
      ]
     },
     "execution_count": 23,
     "metadata": {},
     "output_type": "execute_result"
    }
   ],
   "source": [
    "len(la)"
   ]
  },
  {
   "cell_type": "code",
   "execution_count": 24,
   "id": "28324a04-664c-404c-947e-3d7c176664bd",
   "metadata": {},
   "outputs": [
    {
     "data": {
      "text/plain": [
       "[1, 2, 3, 4, 5, 6, 7, 8, 9]"
      ]
     },
     "execution_count": 24,
     "metadata": {},
     "output_type": "execute_result"
    }
   ],
   "source": [
    "la.append(9)\n",
    "la"
   ]
  },
  {
   "cell_type": "code",
   "execution_count": 29,
   "id": "bcfe5deb-49cb-4f81-8fda-da510b9be104",
   "metadata": {},
   "outputs": [
    {
     "data": {
      "text/plain": [
       "8"
      ]
     },
     "execution_count": 29,
     "metadata": {},
     "output_type": "execute_result"
    }
   ],
   "source": [
    "la.pop(7)"
   ]
  },
  {
   "cell_type": "code",
   "execution_count": 30,
   "id": "01678c57-2afc-44a3-8b70-542d9565cf55",
   "metadata": {},
   "outputs": [
    {
     "data": {
      "text/plain": [
       "[1, 2, 3, 4, 5, 6, 7]"
      ]
     },
     "execution_count": 30,
     "metadata": {},
     "output_type": "execute_result"
    }
   ],
   "source": [
    "la"
   ]
  },
  {
   "cell_type": "code",
   "execution_count": 31,
   "id": "773c656f-b7a2-49b3-88b1-17dbb5d3f7f4",
   "metadata": {},
   "outputs": [
    {
     "data": {
      "text/plain": [
       "[7, 6, 5, 4, 3, 2, 1]"
      ]
     },
     "execution_count": 31,
     "metadata": {},
     "output_type": "execute_result"
    }
   ],
   "source": [
    "la.reverse()\n",
    "la"
   ]
  },
  {
   "cell_type": "code",
   "execution_count": 32,
   "id": "ded1a8ac-b4e7-4dd2-8e5f-8c3cce574ace",
   "metadata": {},
   "outputs": [],
   "source": [
    "la.remove(3)"
   ]
  },
  {
   "cell_type": "code",
   "execution_count": 33,
   "id": "351f6662-e088-4d98-8360-c9751453da30",
   "metadata": {},
   "outputs": [
    {
     "data": {
      "text/plain": [
       "[7, 6, 5, 4, 2, 1]"
      ]
     },
     "execution_count": 33,
     "metadata": {},
     "output_type": "execute_result"
    }
   ],
   "source": [
    "la"
   ]
  },
  {
   "cell_type": "markdown",
   "id": "c22bfa10-972b-42af-80a2-28f91b132971",
   "metadata": {},
   "source": [
    "# 元组\n",
    "> 元组被定义就不能修改数据,通常操作通过列表实现"
   ]
  },
  {
   "cell_type": "code",
   "execution_count": 34,
   "id": "e025d22a-ffff-4f13-bb13-68e242a68a18",
   "metadata": {},
   "outputs": [
    {
     "data": {
      "text/plain": [
       "(1, 2, 3)"
      ]
     },
     "execution_count": 34,
     "metadata": {},
     "output_type": "execute_result"
    }
   ],
   "source": [
    "t = (1,2,3)\n",
    "t"
   ]
  },
  {
   "cell_type": "code",
   "execution_count": 35,
   "id": "ccb6e76c-4ff8-4a8c-a048-348e3cb579d3",
   "metadata": {},
   "outputs": [
    {
     "data": {
      "text/plain": [
       "(7, 6, 5, 4, 2, 1)"
      ]
     },
     "execution_count": 35,
     "metadata": {},
     "output_type": "execute_result"
    }
   ],
   "source": [
    "t = tuple(la) # 将别的格式转换为元组\n",
    "t"
   ]
  },
  {
   "cell_type": "code",
   "execution_count": 36,
   "id": "10d281c4-f67b-488b-9e16-81b9578128fc",
   "metadata": {},
   "outputs": [
    {
     "data": {
      "text/plain": [
       "True"
      ]
     },
     "execution_count": 36,
     "metadata": {},
     "output_type": "execute_result"
    }
   ],
   "source": [
    "1 in t # 判断元素存在"
   ]
  },
  {
   "cell_type": "code",
   "execution_count": 37,
   "id": "b6158423-3c6c-49e1-97fb-662435661ca3",
   "metadata": {},
   "outputs": [],
   "source": [
    "s = (4,5,6)"
   ]
  },
  {
   "cell_type": "code",
   "execution_count": 39,
   "id": "a53507b4-6909-4da7-951d-f451d96086c3",
   "metadata": {},
   "outputs": [
    {
     "data": {
      "text/plain": [
       "(7, 6, 5, 4, 2, 1, 4, 5, 6)"
      ]
     },
     "execution_count": 39,
     "metadata": {},
     "output_type": "execute_result"
    }
   ],
   "source": [
    "t + s # 元组拼接"
   ]
  },
  {
   "cell_type": "code",
   "execution_count": 41,
   "id": "2daf1839-253b-4959-83f6-79ac360fd7dd",
   "metadata": {},
   "outputs": [
    {
     "data": {
      "text/plain": [
       "(7, 6, 5, 4, 2, 1)"
      ]
     },
     "execution_count": 41,
     "metadata": {},
     "output_type": "execute_result"
    }
   ],
   "source": [
    "t"
   ]
  },
  {
   "cell_type": "code",
   "execution_count": 40,
   "id": "1f888e94-7423-4e58-973f-c3a9b5b0f379",
   "metadata": {},
   "outputs": [
    {
     "data": {
      "text/plain": [
       "(7, 6, 5, 4, 2, 1, 7, 6, 5, 4, 2, 1)"
      ]
     },
     "execution_count": 40,
     "metadata": {},
     "output_type": "execute_result"
    }
   ],
   "source": [
    "t * 2 # 扩建两倍"
   ]
  },
  {
   "cell_type": "code",
   "execution_count": 42,
   "id": "bc1cabeb-c4e3-43f4-a087-c7b6bb4a077b",
   "metadata": {},
   "outputs": [
    {
     "data": {
      "text/plain": [
       "6"
      ]
     },
     "execution_count": 42,
     "metadata": {},
     "output_type": "execute_result"
    }
   ],
   "source": [
    "t[1]"
   ]
  },
  {
   "cell_type": "code",
   "execution_count": 43,
   "id": "d432665f-427e-4032-968b-a21eae9af882",
   "metadata": {},
   "outputs": [
    {
     "data": {
      "text/plain": [
       "(7, 6)"
      ]
     },
     "execution_count": 43,
     "metadata": {},
     "output_type": "execute_result"
    }
   ],
   "source": [
    "t[:2] # 前两个(默认从头)"
   ]
  },
  {
   "cell_type": "code",
   "execution_count": 44,
   "id": "71a7b552-45de-4b51-a921-9ada5b464f27",
   "metadata": {},
   "outputs": [
    {
     "data": {
      "text/plain": [
       "(7, 4)"
      ]
     },
     "execution_count": 44,
     "metadata": {},
     "output_type": "execute_result"
    }
   ],
   "source": [
    "t[::3] # [star:end:step]"
   ]
  },
  {
   "cell_type": "code",
   "execution_count": 45,
   "id": "d0f66474-9fc9-479e-a28c-c7d0906f7e71",
   "metadata": {},
   "outputs": [
    {
     "data": {
      "text/plain": [
       "1"
      ]
     },
     "execution_count": 45,
     "metadata": {},
     "output_type": "execute_result"
    }
   ],
   "source": [
    "t.count(1)"
   ]
  },
  {
   "cell_type": "code",
   "execution_count": 47,
   "id": "a60dc7fe-e2e5-4a7a-a23c-9067420eef75",
   "metadata": {},
   "outputs": [
    {
     "data": {
      "text/plain": [
       "(1, 2, 3)"
      ]
     },
     "execution_count": 47,
     "metadata": {},
     "output_type": "execute_result"
    }
   ],
   "source": [
    "def f(x):# 返回多个值时,通常做为一个元组返回\n",
    "    return x,x+1,x+2\n",
    "f(1)"
   ]
  },
  {
   "cell_type": "markdown",
   "id": "4cf30247-45df-4dc7-bf29-5a4e14ab970b",
   "metadata": {},
   "source": [
    "# 字典\n",
    "> 键值对"
   ]
  },
  {
   "cell_type": "code",
   "execution_count": 50,
   "id": "157ce6f8-83c8-44b1-9997-26674974b0d6",
   "metadata": {},
   "outputs": [
    {
     "data": {
      "text/plain": [
       "{1: 'mike', 2: 'tom', 3: 'lucky'}"
      ]
     },
     "execution_count": 50,
     "metadata": {},
     "output_type": "execute_result"
    }
   ],
   "source": [
    "d = {1 : 'mike' , 2 : 'tom' , 3 : 'lucky'}\n",
    "d"
   ]
  },
  {
   "cell_type": "code",
   "execution_count": 51,
   "id": "f530189f-6e72-48ca-a621-eaf52cc950c8",
   "metadata": {},
   "outputs": [
    {
     "data": {
      "text/plain": [
       "'mike'"
      ]
     },
     "execution_count": 51,
     "metadata": {},
     "output_type": "execute_result"
    }
   ],
   "source": [
    "d[1] # 通过索引查找(不是顺序)"
   ]
  },
  {
   "cell_type": "code",
   "execution_count": 53,
   "id": "9d178ac3-9067-41c9-8a75-8346c148634b",
   "metadata": {},
   "outputs": [
    {
     "data": {
      "text/plain": [
       "'job'"
      ]
     },
     "execution_count": 53,
     "metadata": {},
     "output_type": "execute_result"
    }
   ],
   "source": [
    "d[2] = 'job' # 赋值\n",
    "d[2]"
   ]
  },
  {
   "cell_type": "code",
   "execution_count": 56,
   "id": "08dab2ab-5880-43d6-94dd-e2bc1cbb940d",
   "metadata": {},
   "outputs": [
    {
     "data": {
      "text/plain": [
       "{}"
      ]
     },
     "execution_count": 56,
     "metadata": {},
     "output_type": "execute_result"
    }
   ],
   "source": [
    "dict() # 生成一个空字典"
   ]
  },
  {
   "cell_type": "code",
   "execution_count": 57,
   "id": "e8ceea42-286f-4e99-8f86-04e39a76e2ef",
   "metadata": {},
   "outputs": [
    {
     "data": {
      "text/plain": [
       "dict_keys([1, 2, 3])"
      ]
     },
     "execution_count": 57,
     "metadata": {},
     "output_type": "execute_result"
    }
   ],
   "source": [
    "d.keys() # 返回所有键"
   ]
  },
  {
   "cell_type": "code",
   "execution_count": 58,
   "id": "3ff77b33-2251-43bd-a310-bd477a382f07",
   "metadata": {},
   "outputs": [
    {
     "data": {
      "text/plain": [
       "dict_values(['mike', 'job', 'lucky'])"
      ]
     },
     "execution_count": 58,
     "metadata": {},
     "output_type": "execute_result"
    }
   ],
   "source": [
    "d.values() # 返回所有值"
   ]
  },
  {
   "cell_type": "code",
   "execution_count": 59,
   "id": "9dd752d7-4ab5-4052-95f9-a56e1d6f56e8",
   "metadata": {},
   "outputs": [
    {
     "data": {
      "text/plain": [
       "dict_items([(1, 'mike'), (2, 'job'), (3, 'lucky')])"
      ]
     },
     "execution_count": 59,
     "metadata": {},
     "output_type": "execute_result"
    }
   ],
   "source": [
    "d.items() # 返回所有键值对"
   ]
  },
  {
   "cell_type": "code",
   "execution_count": 60,
   "id": "15c2ba69-6048-4892-ab48-e9446048ee2d",
   "metadata": {},
   "outputs": [
    {
     "data": {
      "text/plain": [
       "'mike'"
      ]
     },
     "execution_count": 60,
     "metadata": {},
     "output_type": "execute_result"
    }
   ],
   "source": [
    "d.get(1) # 通过键返回值"
   ]
  },
  {
   "cell_type": "markdown",
   "id": "f85af94b-9e4f-48c6-8cc3-f43de99a5be9",
   "metadata": {},
   "source": [
    "# 集合"
   ]
  },
  {
   "cell_type": "code",
   "execution_count": 61,
   "id": "0a991860-3680-423d-a499-e3ba4f3f2a91",
   "metadata": {},
   "outputs": [
    {
     "data": {
      "text/plain": [
       "set"
      ]
     },
     "execution_count": 61,
     "metadata": {},
     "output_type": "execute_result"
    }
   ],
   "source": [
    "s = {1,2,3,4,5,6,7,8,9}\n",
    "type(s)"
   ]
  },
  {
   "cell_type": "code",
   "execution_count": 63,
   "id": "f6a7230f-dfba-4dc8-83c7-1af0865d6df3",
   "metadata": {},
   "outputs": [
    {
     "data": {
      "text/plain": [
       "{'jack', 'mike', 'tom'}"
      ]
     },
     "execution_count": 63,
     "metadata": {},
     "output_type": "execute_result"
    }
   ],
   "source": [
    "S = {'tom','mike','jack'}\n",
    "T = {'jack','luky','bob'}\n",
    "S"
   ]
  },
  {
   "cell_type": "code",
   "execution_count": 65,
   "id": "adb64a19-d92f-4999-b583-aa2a8005448e",
   "metadata": {},
   "outputs": [
    {
     "data": {
      "text/plain": [
       "{'mike', 'tom'}"
      ]
     },
     "execution_count": 65,
     "metadata": {},
     "output_type": "execute_result"
    }
   ],
   "source": [
    "S-T #S中去掉T"
   ]
  },
  {
   "cell_type": "code",
   "execution_count": 67,
   "id": "cc4a6044-706d-48cc-87e4-36f45683a4ca",
   "metadata": {},
   "outputs": [
    {
     "data": {
      "text/plain": [
       "{'jack'}"
      ]
     },
     "execution_count": 67,
     "metadata": {},
     "output_type": "execute_result"
    }
   ],
   "source": [
    "S & T # S 交 T"
   ]
  },
  {
   "cell_type": "code",
   "execution_count": 68,
   "id": "1cd0c7f2-5452-4417-b7ca-469d59ddb3bc",
   "metadata": {},
   "outputs": [
    {
     "data": {
      "text/plain": [
       "{'bob', 'jack', 'luky', 'mike', 'tom'}"
      ]
     },
     "execution_count": 68,
     "metadata": {},
     "output_type": "execute_result"
    }
   ],
   "source": [
    "S | T # S 并 T"
   ]
  },
  {
   "cell_type": "code",
   "execution_count": 70,
   "id": "30b41127-9acd-42e4-a8ae-00927bf26dff",
   "metadata": {},
   "outputs": [
    {
     "data": {
      "text/plain": [
       "{'bob', 'luky', 'mike', 'tom'}"
      ]
     },
     "execution_count": 70,
     "metadata": {},
     "output_type": "execute_result"
    }
   ],
   "source": [
    "S ^ T # 非 (S 交 T)"
   ]
  },
  {
   "cell_type": "code",
   "execution_count": null,
   "id": "93be1009-997b-4fb4-a430-fe2d5a63decb",
   "metadata": {},
   "outputs": [],
   "source": []
  }
 ],
 "metadata": {
  "kernelspec": {
   "display_name": "Python 3 (ipykernel)",
   "language": "python",
   "name": "python3"
  },
  "language_info": {
   "codemirror_mode": {
    "name": "ipython",
    "version": 3
   },
   "file_extension": ".py",
   "mimetype": "text/x-python",
   "name": "python",
   "nbconvert_exporter": "python",
   "pygments_lexer": "ipython3",
   "version": "3.13.3"
  }
 },
 "nbformat": 4,
 "nbformat_minor": 5
}
